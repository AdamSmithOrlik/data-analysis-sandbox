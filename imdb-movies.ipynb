{
 "cells": [
  {
   "cell_type": "code",
   "execution_count": 1,
   "id": "8e8b77ca",
   "metadata": {
    "_cell_guid": "b1076dfc-b9ad-4769-8c92-a6c4dae69d19",
    "_uuid": "8f2839f25d086af736a60e9eeb907d3b93b6e0e5",
    "execution": {
     "iopub.execute_input": "2025-02-17T23:29:41.306076Z",
     "iopub.status.busy": "2025-02-17T23:29:41.305735Z",
     "iopub.status.idle": "2025-02-17T23:29:42.180782Z",
     "shell.execute_reply": "2025-02-17T23:29:42.179360Z"
    },
    "papermill": {
     "duration": 0.883322,
     "end_time": "2025-02-17T23:29:42.182368",
     "exception": false,
     "start_time": "2025-02-17T23:29:41.299046",
     "status": "completed"
    },
    "tags": []
   },
   "outputs": [
    {
     "name": "stdout",
     "output_type": "stream",
     "text": [
      "/kaggle/input/imdb-movies-dataset/merged_dataset.csv\n"
     ]
    }
   ],
   "source": [
    "# This Python 3 environment comes with many helpful analytics libraries installed\n",
    "# It is defined by the kaggle/python Docker image: https://github.com/kaggle/docker-python\n",
    "# For example, here's several helpful packages to load\n",
    "\n",
    "import numpy as np # linear algebra\n",
    "import pandas as pd # data processing, CSV file I/O (e.g. pd.read_csv)\n",
    "\n",
    "# Input data files are available in the read-only \"../input/\" directory\n",
    "# For example, running this (by clicking run or pressing Shift+Enter) will list all files under the input directory\n",
    "\n",
    "import os\n",
    "for dirname, _, filenames in os.walk('/kaggle/input'):\n",
    "    for filename in filenames:\n",
    "        print(os.path.join(dirname, filename))\n",
    "\n",
    "# You can write up to 20GB to the current directory (/kaggle/working/) that gets preserved as output when you create a version using \"Save & Run All\" \n",
    "# You can also write temporary files to /kaggle/temp/, but they won't be saved outside of the current session"
   ]
  },
  {
   "cell_type": "code",
   "execution_count": 2,
   "id": "25a08979",
   "metadata": {
    "execution": {
     "iopub.execute_input": "2025-02-17T23:29:42.192581Z",
     "iopub.status.busy": "2025-02-17T23:29:42.192097Z",
     "iopub.status.idle": "2025-02-17T23:29:44.082597Z",
     "shell.execute_reply": "2025-02-17T23:29:44.081435Z"
    },
    "papermill": {
     "duration": 1.897331,
     "end_time": "2025-02-17T23:29:44.084477",
     "exception": false,
     "start_time": "2025-02-17T23:29:42.187146",
     "status": "completed"
    },
    "tags": []
   },
   "outputs": [
    {
     "name": "stdout",
     "output_type": "stream",
     "text": [
      "Path to dataset files: /kaggle/input/imdb-movies-dataset\n"
     ]
    }
   ],
   "source": [
    "import kagglehub\n",
    "\n",
    "# Download latest version\n",
    "path = kagglehub.dataset_download(\"krishnanshverma/imdb-movies-dataset\")\n",
    "\n",
    "print(\"Path to dataset files:\", path)"
   ]
  },
  {
   "cell_type": "markdown",
   "id": "0b46fb63",
   "metadata": {
    "papermill": {
     "duration": 0.004417,
     "end_time": "2025-02-17T23:29:44.093730",
     "exception": false,
     "start_time": "2025-02-17T23:29:44.089313",
     "status": "completed"
    },
    "tags": []
   },
   "source": [
    "# Data familiarity "
   ]
  },
  {
   "cell_type": "code",
   "execution_count": 3,
   "id": "4edb9909",
   "metadata": {
    "execution": {
     "iopub.execute_input": "2025-02-17T23:29:44.104093Z",
     "iopub.status.busy": "2025-02-17T23:29:44.103596Z",
     "iopub.status.idle": "2025-02-17T23:29:44.142893Z",
     "shell.execute_reply": "2025-02-17T23:29:44.141467Z"
    },
    "papermill": {
     "duration": 0.04707,
     "end_time": "2025-02-17T23:29:44.145440",
     "exception": false,
     "start_time": "2025-02-17T23:29:44.098370",
     "status": "completed"
    },
    "tags": []
   },
   "outputs": [
    {
     "name": "stdout",
     "output_type": "stream",
     "text": [
      "                                                name  year movie_rated  \\\n",
      "0                                          Inception  2010       PG-13   \n",
      "1  The Lord of the Rings: The Fellowship of the Ring  2001       PG-13   \n",
      "2      The Lord of the Rings: The Return of the King  2003       PG-13   \n",
      "3                              The Dark Knight Rises  2012       PG-13   \n",
      "4              The Lord of the Rings: The Two Towers  2002       PG-13   \n",
      "\n",
      "  run_length                       genres            release_date  rating  \\\n",
      "0   2h 28min  Action; Adventure; Sci-Fi;       16 July 2010 (USA)     8.8   \n",
      "1   2h 58min   Action; Adventure; Drama;   19 December 2001 (USA)     8.8   \n",
      "2   3h 21min  Adventure; Drama; Fantasy;   17 December 2003 (USA)     8.9   \n",
      "3   2h 44min          Action; Adventure;       20 July 2012 (USA)     8.4   \n",
      "4   2h 59min  Adventure; Drama; Fantasy;   18 December 2002 (USA)     8.7   \n",
      "\n",
      "   num_raters  num_reviews  \n",
      "0     1981675         3820  \n",
      "1     1609165         5365  \n",
      "2     1593859         3681  \n",
      "3     1470329         2979  \n",
      "4     1440188         2559  \n"
     ]
    }
   ],
   "source": [
    "# load dataset into a pandas dataframe \n",
    "filename = 'merged_dataset.csv'\n",
    "df = pd.read_csv(os.path.join(path, filename))\n",
    "\n",
    "print(df.head())"
   ]
  },
  {
   "cell_type": "code",
   "execution_count": 4,
   "id": "02c2fb54",
   "metadata": {
    "execution": {
     "iopub.execute_input": "2025-02-17T23:29:44.155833Z",
     "iopub.status.busy": "2025-02-17T23:29:44.155522Z",
     "iopub.status.idle": "2025-02-17T23:29:44.164240Z",
     "shell.execute_reply": "2025-02-17T23:29:44.163354Z"
    },
    "papermill": {
     "duration": 0.015845,
     "end_time": "2025-02-17T23:29:44.166029",
     "exception": false,
     "start_time": "2025-02-17T23:29:44.150184",
     "status": "completed"
    },
    "tags": []
   },
   "outputs": [
    {
     "name": "stdout",
     "output_type": "stream",
     "text": [
      "The lenght of the dataset is:  13500\n",
      "The number of rows:  1500\n",
      "The number of columns:  9\n"
     ]
    }
   ],
   "source": [
    "print('The lenght of the dataset is: ', df.size)\n",
    "print('The number of rows: ', len(df.index))\n",
    "print('The number of columns: ', len(df.columns))"
   ]
  },
  {
   "cell_type": "code",
   "execution_count": 5,
   "id": "cabdbb56",
   "metadata": {
    "execution": {
     "iopub.execute_input": "2025-02-17T23:29:44.176887Z",
     "iopub.status.busy": "2025-02-17T23:29:44.176571Z",
     "iopub.status.idle": "2025-02-17T23:29:44.181768Z",
     "shell.execute_reply": "2025-02-17T23:29:44.180637Z"
    },
    "papermill": {
     "duration": 0.012434,
     "end_time": "2025-02-17T23:29:44.183319",
     "exception": false,
     "start_time": "2025-02-17T23:29:44.170885",
     "status": "completed"
    },
    "tags": []
   },
   "outputs": [
    {
     "name": "stdout",
     "output_type": "stream",
     "text": [
      "Index(['name', 'year', 'movie_rated', 'run_length', 'genres', 'release_date',\n",
      "       'rating', 'num_raters', 'num_reviews'],\n",
      "      dtype='object')\n"
     ]
    }
   ],
   "source": [
    "print(df.keys())"
   ]
  },
  {
   "cell_type": "code",
   "execution_count": 6,
   "id": "cc6bc043",
   "metadata": {
    "execution": {
     "iopub.execute_input": "2025-02-17T23:29:44.193857Z",
     "iopub.status.busy": "2025-02-17T23:29:44.193541Z",
     "iopub.status.idle": "2025-02-17T23:29:44.197094Z",
     "shell.execute_reply": "2025-02-17T23:29:44.196314Z"
    },
    "papermill": {
     "duration": 0.010491,
     "end_time": "2025-02-17T23:29:44.198695",
     "exception": false,
     "start_time": "2025-02-17T23:29:44.188204",
     "status": "completed"
    },
    "tags": []
   },
   "outputs": [],
   "source": [
    "# # get the unique generes \n",
    "# for g in df['genres'].sort_values().unique():\n",
    "#     print(g)"
   ]
  },
  {
   "cell_type": "code",
   "execution_count": 7,
   "id": "3f304fe0",
   "metadata": {
    "execution": {
     "iopub.execute_input": "2025-02-17T23:29:44.209055Z",
     "iopub.status.busy": "2025-02-17T23:29:44.208772Z",
     "iopub.status.idle": "2025-02-17T23:29:44.215232Z",
     "shell.execute_reply": "2025-02-17T23:29:44.214229Z"
    },
    "papermill": {
     "duration": 0.013431,
     "end_time": "2025-02-17T23:29:44.217031",
     "exception": false,
     "start_time": "2025-02-17T23:29:44.203600",
     "status": "completed"
    },
    "tags": []
   },
   "outputs": [
    {
     "data": {
      "text/plain": [
       "'The Lord of the Rings: The Fellowship of the Ring'"
      ]
     },
     "execution_count": 7,
     "metadata": {},
     "output_type": "execute_result"
    }
   ],
   "source": [
    "df.iloc[1]['name']"
   ]
  },
  {
   "cell_type": "code",
   "execution_count": 8,
   "id": "94acb727",
   "metadata": {
    "execution": {
     "iopub.execute_input": "2025-02-17T23:29:44.228632Z",
     "iopub.status.busy": "2025-02-17T23:29:44.228309Z",
     "iopub.status.idle": "2025-02-17T23:29:44.238635Z",
     "shell.execute_reply": "2025-02-17T23:29:44.237612Z"
    },
    "papermill": {
     "duration": 0.017839,
     "end_time": "2025-02-17T23:29:44.240151",
     "exception": false,
     "start_time": "2025-02-17T23:29:44.222312",
     "status": "completed"
    },
    "tags": []
   },
   "outputs": [
    {
     "name": "stdout",
     "output_type": "stream",
     "text": [
      "1.  Inception\n",
      "2.  The Lord of the Rings: The Fellowship of the Ring\n",
      "3.  The Lord of the Rings: The Return of the King\n",
      "4.  The Dark Knight Rises\n",
      "5.  The Lord of the Rings: The Two Towers\n",
      "6.  Interstellar\n",
      "7.  Gladiator\n",
      "8.  Batman Begins\n",
      "9.  The Avengers\n",
      "10.  Inglourious Basterds\n"
     ]
    }
   ],
   "source": [
    "for i in range(0, 10, 1):\n",
    "    rank = i+1\n",
    "    print(f'{rank}. ', df.iloc[i]['name'])"
   ]
  },
  {
   "cell_type": "code",
   "execution_count": 9,
   "id": "4b33df1b",
   "metadata": {
    "execution": {
     "iopub.execute_input": "2025-02-17T23:29:44.251618Z",
     "iopub.status.busy": "2025-02-17T23:29:44.251223Z",
     "iopub.status.idle": "2025-02-17T23:29:44.260191Z",
     "shell.execute_reply": "2025-02-17T23:29:44.259383Z"
    },
    "papermill": {
     "duration": 0.016143,
     "end_time": "2025-02-17T23:29:44.261639",
     "exception": false,
     "start_time": "2025-02-17T23:29:44.245496",
     "status": "completed"
    },
    "tags": []
   },
   "outputs": [
    {
     "data": {
      "text/plain": [
       "array([1915, 1925, 1928, 1930, 1933, 1937, 1939, 1940, 1941, 1942, 1944,\n",
       "       1946, 1950, 1952, 1953, 1954, 1957, 1958, 1959, 1960, 1961, 1962,\n",
       "       1963, 1964, 1965, 1966, 1967, 1968, 1969, 1970, 1971, 1972, 1973,\n",
       "       1974, 1975, 1976, 1977, 1978, 1979, 1980, 1981, 1982, 1983, 1984,\n",
       "       1985, 1986, 1987, 1988, 1989, 1990, 1991, 1992, 1993, 1994, 1995,\n",
       "       1996, 1997, 1998, 1999, 2000, 2001, 2002, 2003, 2004, 2005, 2006,\n",
       "       2007, 2008, 2009, 2010, 2011, 2012, 2013, 2014, 2015, 2016, 2017,\n",
       "       2018, 2019, 2020])"
      ]
     },
     "execution_count": 9,
     "metadata": {},
     "output_type": "execute_result"
    }
   ],
   "source": [
    "# find out how old this dataset is \n",
    "np.sort(df.year.unique())"
   ]
  },
  {
   "cell_type": "markdown",
   "id": "71217365",
   "metadata": {
    "papermill": {
     "duration": 0.004964,
     "end_time": "2025-02-17T23:29:44.271865",
     "exception": false,
     "start_time": "2025-02-17T23:29:44.266901",
     "status": "completed"
    },
    "tags": []
   },
   "source": [
    "# Best movies by year function dev"
   ]
  },
  {
   "cell_type": "code",
   "execution_count": 10,
   "id": "3e7fdb0f",
   "metadata": {
    "execution": {
     "iopub.execute_input": "2025-02-17T23:29:44.283389Z",
     "iopub.status.busy": "2025-02-17T23:29:44.283016Z",
     "iopub.status.idle": "2025-02-17T23:29:44.296865Z",
     "shell.execute_reply": "2025-02-17T23:29:44.295953Z"
    },
    "papermill": {
     "duration": 0.021717,
     "end_time": "2025-02-17T23:29:44.298767",
     "exception": false,
     "start_time": "2025-02-17T23:29:44.277050",
     "status": "completed"
    },
    "tags": []
   },
   "outputs": [],
   "source": [
    "df_test = df.query('year==2019')"
   ]
  },
  {
   "cell_type": "code",
   "execution_count": 11,
   "id": "8ceb5fb2",
   "metadata": {
    "execution": {
     "iopub.execute_input": "2025-02-17T23:29:44.310298Z",
     "iopub.status.busy": "2025-02-17T23:29:44.309935Z",
     "iopub.status.idle": "2025-02-17T23:29:44.313813Z",
     "shell.execute_reply": "2025-02-17T23:29:44.312803Z"
    },
    "papermill": {
     "duration": 0.011422,
     "end_time": "2025-02-17T23:29:44.315523",
     "exception": false,
     "start_time": "2025-02-17T23:29:44.304101",
     "status": "completed"
    },
    "tags": []
   },
   "outputs": [],
   "source": [
    "# df_test.sort_values(by=['rating'], ascending=False).drop_duplicates(subset=['name'], keep='first')"
   ]
  },
  {
   "cell_type": "code",
   "execution_count": 12,
   "id": "0b65c846",
   "metadata": {
    "execution": {
     "iopub.execute_input": "2025-02-17T23:29:44.326217Z",
     "iopub.status.busy": "2025-02-17T23:29:44.325960Z",
     "iopub.status.idle": "2025-02-17T23:29:44.329471Z",
     "shell.execute_reply": "2025-02-17T23:29:44.328563Z"
    },
    "papermill": {
     "duration": 0.010422,
     "end_time": "2025-02-17T23:29:44.330930",
     "exception": false,
     "start_time": "2025-02-17T23:29:44.320508",
     "status": "completed"
    },
    "tags": []
   },
   "outputs": [],
   "source": [
    "# df.query('year==2011')"
   ]
  },
  {
   "cell_type": "code",
   "execution_count": 13,
   "id": "d51aeb61",
   "metadata": {
    "execution": {
     "iopub.execute_input": "2025-02-17T23:29:44.342271Z",
     "iopub.status.busy": "2025-02-17T23:29:44.341940Z",
     "iopub.status.idle": "2025-02-17T23:29:44.347985Z",
     "shell.execute_reply": "2025-02-17T23:29:44.346981Z"
    },
    "papermill": {
     "duration": 0.013213,
     "end_time": "2025-02-17T23:29:44.349436",
     "exception": false,
     "start_time": "2025-02-17T23:29:44.336223",
     "status": "completed"
    },
    "tags": []
   },
   "outputs": [],
   "source": [
    "# write a function to resturn the top 10 movies for a specific year \n",
    "\n",
    "def best_movies_by_year(df, year):\n",
    "    if year not in np.sort(df.year.unique()):\n",
    "        raise 'Year not in the dataset.'\n",
    "\n",
    "    # gets the dataset for year and sorts by the rating and removes duplicates\n",
    "    dff = df.loc[df['year']==year].sort_values(by=['rating'], ascending=False).drop_duplicates(subset=['name'], keep='first')\n",
    "\n",
    "    # if over 10 movies after cut, take only the first 10\n",
    "    if len(dff) > 10:\n",
    "        dff = dff[:10]\n",
    "    # else keep all \n",
    "\n",
    "    # print the top 10 movies\n",
    "    print(f'Top 10 movies of {year}')\n",
    "    for i in range(0, len(dff), 1):\n",
    "        rank = i + 1\n",
    "        print(f'{rank}. ', dff.iloc[i]['name'])\n",
    "\n",
    "    return None"
   ]
  },
  {
   "cell_type": "code",
   "execution_count": 14,
   "id": "3160f3f1",
   "metadata": {
    "execution": {
     "iopub.execute_input": "2025-02-17T23:29:44.361849Z",
     "iopub.status.busy": "2025-02-17T23:29:44.361539Z",
     "iopub.status.idle": "2025-02-17T23:29:44.375359Z",
     "shell.execute_reply": "2025-02-17T23:29:44.373893Z"
    },
    "papermill": {
     "duration": 0.021578,
     "end_time": "2025-02-17T23:29:44.377477",
     "exception": false,
     "start_time": "2025-02-17T23:29:44.355899",
     "status": "completed"
    },
    "tags": []
   },
   "outputs": [
    {
     "name": "stdout",
     "output_type": "stream",
     "text": [
      "Top 10 movies of 2019\n",
      "1.  Parasite\n",
      "2.  Joker\n",
      "3.  Avengers: Endgame\n",
      "4.  1917\n",
      "5.  Uri: The Surgical Strike\n",
      "6.  Ford v Ferrari\n",
      "7.  Marriage Story\n",
      "8.  Knives Out\n",
      "9.  The Irishman\n",
      "10.  Jojo Rabbit\n"
     ]
    }
   ],
   "source": [
    "best_movies_by_year(df, 2019)"
   ]
  },
  {
   "cell_type": "markdown",
   "id": "3103fb4b",
   "metadata": {
    "papermill": {
     "duration": 0.004886,
     "end_time": "2025-02-17T23:29:44.387753",
     "exception": false,
     "start_time": "2025-02-17T23:29:44.382867",
     "status": "completed"
    },
    "tags": []
   },
   "source": [
    "# Top 10 movies for each year from 2000 to 2019"
   ]
  },
  {
   "cell_type": "code",
   "execution_count": 15,
   "id": "43d386d0",
   "metadata": {
    "execution": {
     "iopub.execute_input": "2025-02-17T23:29:44.398804Z",
     "iopub.status.busy": "2025-02-17T23:29:44.398486Z",
     "iopub.status.idle": "2025-02-17T23:29:44.514963Z",
     "shell.execute_reply": "2025-02-17T23:29:44.513474Z"
    },
    "papermill": {
     "duration": 0.124878,
     "end_time": "2025-02-17T23:29:44.517526",
     "exception": false,
     "start_time": "2025-02-17T23:29:44.392648",
     "status": "completed"
    },
    "tags": []
   },
   "outputs": [
    {
     "name": "stdout",
     "output_type": "stream",
     "text": [
      "Top 10 movies of 2000\n",
      "1.  Gladiator\n",
      "2.  Memento\n",
      "3.  Snatch\n",
      "4.  Requiem for a Dream\n",
      "5.  Cast Away\n",
      "6.  Remember the Titans\n",
      "7.  Crouching Tiger, Hidden Dragon\n",
      "8.  Billy Elliot\n",
      "9.  O Brother, Where Art Thou?\n",
      "10.  American Psycho\n",
      "------------------------------\n",
      "Top 10 movies of 2001\n",
      "1.  The Lord of the Rings: The Fellowship of the Ring\n",
      "2.  Spirited Away\n",
      "3.  Amélie\n",
      "4.  A Beautiful Mind\n",
      "5.  Mulholland Drive\n",
      "6.  Donnie Darko\n",
      "7.  Monsters, Inc.\n",
      "8.  No Man's Land\n",
      "9.  Shrek\n",
      "10.  Training Day\n",
      "------------------------------\n",
      "Top 10 movies of 2002\n",
      "1.  The Lord of the Rings: The Two Towers\n",
      "2.  City of God\n",
      "3.  The Pianist\n",
      "4.  Catch Me If You Can\n",
      "5.  The Bourne Identity\n",
      "6.  Hero\n",
      "7.  Bloody Sunday\n",
      "8.  28 Days Later...\n",
      "9.  Minority Report\n",
      "10.  Gangs of New York\n",
      "------------------------------\n",
      "Top 10 movies of 2003\n",
      "1.  The Lord of the Rings: The Return of the King\n",
      "2.  Oldboy\n",
      "3.  Finding Nemo\n",
      "4.  Kill Bill: Vol. 1\n",
      "5.  Pirates of the Caribbean: The Curse of the Black Pearl\n",
      "6.  Big Fish\n",
      "7.  Mystic River\n",
      "8.  The Last Samurai\n",
      "9.  Lost in Translation\n",
      "10.  Love Actually\n",
      "------------------------------\n",
      "Top 10 movies of 2004\n",
      "1.  Eternal Sunshine of the Spotless Mind\n",
      "2.  Downfall\n",
      "3.  Howl's Moving Castle\n",
      "4.  Hotel Rwanda\n",
      "5.  Tae Guk Gi: The Brotherhood of War\n",
      "6.  Million Dollar Baby\n",
      "7.  Kill Bill: Vol. 2\n",
      "8.  Before Sunset\n",
      "9.  The Incredibles\n",
      "10.  Shaun of the Dead\n",
      "------------------------------\n",
      "Top 10 movies of 2005\n",
      "1.  Batman Begins\n",
      "2.  V for Vendetta\n",
      "3.  Cinderella Man\n",
      "4.  Sin City\n",
      "5.  Pride & Prejudice\n",
      "6.  Walk the Line\n",
      "7.  Harry Potter and the Goblet of Fire\n",
      "8.  Brokeback Mountain\n",
      "9.  Match Point\n",
      "10.  Lord of War\n",
      "------------------------------\n",
      "Top 10 movies of 2006\n",
      "1.  The Departed\n",
      "2.  The Prestige\n",
      "3.  The Lives of Others\n",
      "4.  Pan's Labyrinth\n",
      "5.  Rang De Basanti\n",
      "6.  Casino Royale\n",
      "7.  The Pursuit of Happyness\n",
      "8.  Blood Diamond\n",
      "9.  Children of Men\n",
      "10.  Little Miss Sunshine\n",
      "------------------------------\n",
      "Top 10 movies of 2007\n",
      "1.  There Will Be Blood\n",
      "2.  Into the Wild\n",
      "3.  No Country for Old Men\n",
      "4.  Ratatouille\n",
      "5.  The Bourne Ultimatum\n",
      "6.  Atonement\n",
      "7.  American Gangster\n",
      "8.  Hot Fuzz\n",
      "9.  Once\n",
      "10.  Control\n",
      "------------------------------\n",
      "Top 10 movies of 2008\n",
      "1.  The Dark Knight\n",
      "2.  WALL·E\n",
      "3.  Departures\n",
      "4.  Gran Torino\n",
      "5.  Slumdog Millionaire\n",
      "6.  Ip Man\n",
      "7.  Iron Man\n",
      "8.  In Bruges\n",
      "9.  Taken\n",
      "10.  The Curious Case of Benjamin Button\n",
      "------------------------------\n",
      "Top 10 movies of 2009\n",
      "1.  3 Idiots\n",
      "2.  Inglourious Basterds\n",
      "3.  Up\n",
      "4.  The Secret in Their Eyes\n",
      "5.  Mary and Max\n",
      "6.  Star Trek\n",
      "7.  District 9\n",
      "8.  Fantastic Mr. Fox\n",
      "9.  Moon\n",
      "10.  Mr. Nobody\n",
      "------------------------------\n",
      "Top 10 movies of 2010\n",
      "1.  Inception\n",
      "2.  Toy Story 3\n",
      "3.  Incendies\n",
      "4.  How to Train Your Dragon\n",
      "5.  Shutter Island\n",
      "6.  The King's Speech\n",
      "7.  Black Swan\n",
      "8.  The Fighter\n",
      "9.  Harry Potter and the Deathly Hallows: Part 1\n",
      "10.  The Social Network\n",
      "------------------------------\n",
      "Top 10 movies of 2011\n",
      "1.  The Intouchables\n",
      "2.  Harry Potter and the Deathly Hallows: Part 2\n",
      "3.  The Artist\n",
      "4.  The Girl with the Dragon Tattoo\n",
      "5.  Drive\n",
      "6.  Midnight in Paris\n",
      "7.  X-Men: First Class\n",
      "8.  Rockstar\n",
      "9.  Rise of the Planet of the Apes\n",
      "10.  50_50\n",
      "------------------------------\n",
      "Top 10 movies of 2012\n",
      "1.  The Dark Knight Rises\n",
      "2.  Django Unchained\n",
      "3.  The Perks of Being a Wallflower\n",
      "4.  The Avengers\n",
      "5.  Life of Pi\n",
      "6.  The Hobbit: An Unexpected Journey\n",
      "7.  Moonrise Kingdom\n",
      "8.  Silver Linings Playbook\n",
      "9.  Argo\n",
      "10.  Skyfall\n",
      "------------------------------\n",
      "Top 10 movies of 2013\n",
      "1.  The Wolf of Wall Street\n",
      "2.  Prisoners\n",
      "3.  12 Years a Slave\n",
      "4.  Rush\n",
      "5.  Dallas Buyers Club\n",
      "6.  Her\n",
      "7.  Captain Phillips\n",
      "8.  The Hobbit: The Desolation of Smaug\n",
      "9.  About Time\n",
      "10.  Star Trek Into Darkness\n",
      "------------------------------\n",
      "Top 10 movies of 2014\n",
      "1.  Interstellar\n",
      "2.  Whiplash\n",
      "3.  The Grand Budapest Hotel\n",
      "4.  Gone Girl\n",
      "5.  The Imitation Game\n",
      "6.  Guardians of the Galaxy\n",
      "7.  X-Men: Days of Future Past\n",
      "8.  Edge of Tomorrow\n",
      "9.  Nightcrawler\n",
      "10.  How to Train Your Dragon 2\n",
      "------------------------------\n",
      "Top 10 movies of 2015\n",
      "1.  Mad Max: Fury Road\n",
      "2.  Room\n",
      "3.  Inside Out\n",
      "4.  Spotlight\n",
      "5.  The Martian\n",
      "6.  The Revenant\n",
      "7.  Star Wars: Episode VII - The Force Awakens\n",
      "8.  Straight Outta Compton\n",
      "9.  The Hateful Eight\n",
      "10.  The Big Short\n",
      "------------------------------\n",
      "Top 10 movies of 2016\n",
      "1.  The Mountain II\n",
      "2.  Dangal\n",
      "3.  Your Name.\n",
      "4.  Hacksaw Ridge\n",
      "5.  La La Land\n",
      "6.  Airlift\n",
      "7.  Zootopia\n",
      "8.  Deadpool\n",
      "9.  Lion\n",
      "10.  Arrival\n",
      "------------------------------\n",
      "Top 10 movies of 2017\n",
      "1.  Coco\n",
      "2.  Three Billboards Outside Ebbing, Missouri\n",
      "3.  Logan\n",
      "4.  Blade Runner 2049\n",
      "5.  Thor: Ragnarok\n",
      "6.  Call Me by Your Name\n",
      "7.  Dunkirk\n",
      "8.  Get Out\n",
      "9.  Wind River\n",
      "10.  Guardians of the Galaxy Vol. 2\n",
      "------------------------------\n",
      "Top 10 movies of 2018\n",
      "1.  Avengers: Infinity War\n",
      "2.  Spider-Man: Into the Spider-Verse\n",
      "3.  Green Book\n",
      "4.  Bohemian Rhapsody\n",
      "5.  A Star Is Born\n",
      "6.  Deadpool 2\n",
      "7.  Hotel Mumbai\n",
      "8.  Cold War\n",
      "9.  Incredibles 2\n",
      "10.  A Quiet Place\n",
      "------------------------------\n",
      "Top 10 movies of 2019\n",
      "1.  Parasite\n",
      "2.  Joker\n",
      "3.  Avengers: Endgame\n",
      "4.  1917\n",
      "5.  Uri: The Surgical Strike\n",
      "6.  Ford v Ferrari\n",
      "7.  Marriage Story\n",
      "8.  Knives Out\n",
      "9.  The Irishman\n",
      "10.  Jojo Rabbit\n",
      "------------------------------\n"
     ]
    }
   ],
   "source": [
    "for year in range(2000, 2020, 1):\n",
    "    best_movies_by_year(df, year)\n",
    "    print('------------------------------')"
   ]
  },
  {
   "cell_type": "markdown",
   "id": "9ebfa0ac",
   "metadata": {
    "papermill": {
     "duration": 0.005818,
     "end_time": "2025-02-17T23:29:44.529312",
     "exception": false,
     "start_time": "2025-02-17T23:29:44.523494",
     "status": "completed"
    },
    "tags": []
   },
   "source": [
    "# Add top movies to a txt file"
   ]
  },
  {
   "cell_type": "code",
   "execution_count": 16,
   "id": "a47d9e1c",
   "metadata": {
    "execution": {
     "iopub.execute_input": "2025-02-17T23:29:44.541533Z",
     "iopub.status.busy": "2025-02-17T23:29:44.541054Z",
     "iopub.status.idle": "2025-02-17T23:29:44.579431Z",
     "shell.execute_reply": "2025-02-17T23:29:44.578390Z"
    },
    "papermill": {
     "duration": 0.04642,
     "end_time": "2025-02-17T23:29:44.581269",
     "exception": false,
     "start_time": "2025-02-17T23:29:44.534849",
     "status": "completed"
    },
    "tags": []
   },
   "outputs": [],
   "source": [
    "filename = 'best_movies.txt'\n",
    "for year in range(2000, 2020, 1):\n",
    "    # gets the dataset for year and sorts by the rating and removes duplicates\n",
    "    dff = df.loc[df['year']==year].sort_values(by=['rating'], ascending=False).drop_duplicates(subset=['name'], keep='first')\n",
    "    \n",
    "    # if over 10 movies after cut, take only the first 10\n",
    "    if len(dff) > 10:\n",
    "        dff = dff[:10]\n",
    "    # else keep all \n",
    "\n",
    "    # write year \n",
    "    with open(filename, 'a') as file:\n",
    "        file.write(str(year)+'\\n')\n",
    "   \n",
    "    top_movies_by_year = dff.name.values\n",
    "\n",
    "    for movie_title in top_movies_by_year:\n",
    "        with open(filename, 'a') as file:\n",
    "            file.write(movie_title+'\\n')"
   ]
  },
  {
   "cell_type": "code",
   "execution_count": 17,
   "id": "a91f2dc1",
   "metadata": {
    "execution": {
     "iopub.execute_input": "2025-02-17T23:29:44.593436Z",
     "iopub.status.busy": "2025-02-17T23:29:44.593086Z",
     "iopub.status.idle": "2025-02-17T23:29:44.598780Z",
     "shell.execute_reply": "2025-02-17T23:29:44.597907Z"
    },
    "papermill": {
     "duration": 0.01323,
     "end_time": "2025-02-17T23:29:44.600129",
     "exception": false,
     "start_time": "2025-02-17T23:29:44.586899",
     "status": "completed"
    },
    "tags": []
   },
   "outputs": [
    {
     "data": {
      "text/plain": [
       "['best_movies.txt', '__notebook__.ipynb']"
      ]
     },
     "execution_count": 17,
     "metadata": {},
     "output_type": "execute_result"
    }
   ],
   "source": [
    "os.listdir()"
   ]
  },
  {
   "cell_type": "code",
   "execution_count": null,
   "id": "3ba983da",
   "metadata": {
    "papermill": {
     "duration": 0.00531,
     "end_time": "2025-02-17T23:29:44.611771",
     "exception": false,
     "start_time": "2025-02-17T23:29:44.606461",
     "status": "completed"
    },
    "tags": []
   },
   "outputs": [],
   "source": []
  }
 ],
 "metadata": {
  "kaggle": {
   "accelerator": "none",
   "dataSources": [
    {
     "datasetId": 6655791,
     "sourceId": 10734594,
     "sourceType": "datasetVersion"
    }
   ],
   "dockerImageVersionId": 30886,
   "isGpuEnabled": false,
   "isInternetEnabled": false,
   "language": "python",
   "sourceType": "notebook"
  },
  "kernelspec": {
   "display_name": "Python 3",
   "language": "python",
   "name": "python3"
  },
  "language_info": {
   "codemirror_mode": {
    "name": "ipython",
    "version": 3
   },
   "file_extension": ".py",
   "mimetype": "text/x-python",
   "name": "python",
   "nbconvert_exporter": "python",
   "pygments_lexer": "ipython3",
   "version": "3.10.12"
  },
  "papermill": {
   "default_parameters": {},
   "duration": 6.700999,
   "end_time": "2025-02-17T23:29:45.338320",
   "environment_variables": {},
   "exception": null,
   "input_path": "__notebook__.ipynb",
   "output_path": "__notebook__.ipynb",
   "parameters": {},
   "start_time": "2025-02-17T23:29:38.637321",
   "version": "2.6.0"
  }
 },
 "nbformat": 4,
 "nbformat_minor": 5
}
